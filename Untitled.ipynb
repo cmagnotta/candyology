{
 "cells": [
  {
   "cell_type": "code",
   "execution_count": null,
   "metadata": {},
   "outputs": [],
   "source": [
    "\n",
    "# Dependencies and Setup\n",
    "import pandas as pd\n",
    "import numpy as np\n",
    "import scipy.stats as st\n",
    "import matplotlib.pyplot as plt\n",
    "\n",
    "# File to Load (Remember to Change These)\n",
    "country_badteeth_file = \"Resources/badteeth.csv\"\n",
    "country_healthexpend_file = \"Resources/healthexpend.csv\"\n",
    "country_sugar_consumption_file= \"Resources/sugar_consumption.csv\"\n",
    "\n",
    "# Read School and Student Data File and store into Pandas DataFrames\n",
    "country_badteeth_data = pd.read_csv(country_badteeth_file)\n",
    "country_healthexpend_data = pd.read_csv(country_healthexpend_file)\n",
    "country_sugar_consumption_data = pd.read(country_sugar_consumption_file)\n",
    "\n",
    "candy_data"
   ]
  }
 ],
 "metadata": {
  "kernelspec": {
   "display_name": "Python 3",
   "language": "python",
   "name": "python3"
  },
  "language_info": {
   "codemirror_mode": {
    "name": "ipython",
    "version": 3
   },
   "file_extension": ".py",
   "mimetype": "text/x-python",
   "name": "python",
   "nbconvert_exporter": "python",
   "pygments_lexer": "ipython3",
   "version": "3.8.3"
  }
 },
 "nbformat": 4,
 "nbformat_minor": 4
}
